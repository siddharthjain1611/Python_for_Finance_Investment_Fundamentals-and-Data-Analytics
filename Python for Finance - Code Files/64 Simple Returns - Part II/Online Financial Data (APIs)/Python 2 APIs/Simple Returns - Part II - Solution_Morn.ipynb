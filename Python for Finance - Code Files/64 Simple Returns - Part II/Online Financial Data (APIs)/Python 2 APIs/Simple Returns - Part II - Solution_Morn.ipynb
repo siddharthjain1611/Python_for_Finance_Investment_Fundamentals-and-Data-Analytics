{
 "cells": [
  {
   "cell_type": "markdown",
   "metadata": {},
   "source": [
    "## Simple Returns - Part II"
   ]
  },
  {
   "cell_type": "markdown",
   "metadata": {},
   "source": [
    "*Suggested Answers follow (usually there are multiple ways to solve a problem in Python).*"
   ]
  },
  {
   "cell_type": "markdown",
   "metadata": {},
   "source": [
    "$$\n",
    "\\frac{P_1 - P_0}{P_0} = \\frac{P_1}{P_0} - 1\n",
    "$$"
   ]
  },
  {
   "cell_type": "code",
   "execution_count": 1,
   "metadata": {},
   "outputs": [
    {
     "name": "stdout",
     "output_type": "stream",
     "text": [
      "Symbol  Date      \n",
      "MSFT    2002-01-01         NaN\n",
      "        2002-01-02    0.011619\n",
      "        2002-01-03    0.032667\n",
      "        2002-01-04   -0.004767\n",
      "        2002-01-07   -0.004935\n",
      "        2002-01-08    0.011960\n",
      "        2002-01-09   -0.009657\n",
      "        2002-01-10    0.008296\n",
      "        2002-01-11   -0.009671\n",
      "        2002-01-14   -0.002041\n",
      "        2002-01-15    0.015773\n",
      "        2002-01-16   -0.024155\n",
      "        2002-01-17    0.029321\n",
      "        2002-01-18   -0.053822\n",
      "        2002-01-21    0.000000\n",
      "        2002-01-22   -0.024811\n",
      "        2002-01-23   -0.011170\n",
      "        2002-01-24    0.013492\n",
      "        2002-01-25   -0.012384\n",
      "        2002-01-28    0.000313\n",
      "        2002-01-29   -0.023504\n",
      "        2002-01-30    0.008504\n",
      "        2002-01-31    0.013683\n",
      "        2002-02-01   -0.016481\n",
      "        2002-02-04   -0.024577\n",
      "        2002-02-05    0.000491\n",
      "        2002-02-06   -0.012265\n",
      "        2002-02-07   -0.009934\n",
      "        2002-02-08    0.014214\n",
      "        2002-02-11    0.007914\n",
      "                        ...   \n",
      "        2018-05-07    0.011139\n",
      "        2018-05-08   -0.004261\n",
      "        2018-05-09    0.011794\n",
      "        2018-05-10    0.010006\n",
      "        2018-05-11   -0.002145\n",
      "        2018-05-14    0.003378\n",
      "        2018-05-15   -0.007243\n",
      "        2018-05-16   -0.001747\n",
      "        2018-05-17   -0.009985\n",
      "        2018-05-18    0.001871\n",
      "        2018-05-21    0.012868\n",
      "        2018-05-22   -0.001025\n",
      "        2018-05-23    0.011897\n",
      "        2018-05-24   -0.003548\n",
      "        2018-05-25    0.000509\n",
      "        2018-05-28    0.000000\n",
      "        2018-05-29   -0.003558\n",
      "        2018-05-30    0.009591\n",
      "        2018-05-31   -0.001112\n",
      "        2018-06-01    0.019729\n",
      "        2018-06-04    0.008731\n",
      "        2018-06-05    0.005115\n",
      "        2018-06-06    0.002936\n",
      "        2018-06-07   -0.015709\n",
      "        2018-06-08    0.007435\n",
      "        2018-06-11   -0.005707\n",
      "        2018-06-12    0.002573\n",
      "        2018-06-13   -0.004541\n",
      "        2018-06-14    0.005652\n",
      "        2018-06-15   -0.012719\n",
      "Name: simple_return, Length: 4294, dtype: float64\n"
     ]
    }
   ],
   "source": [
    "import numpy as np\n",
    "from pandas_datareader import data as wb\n",
    "MSFT = wb.DataReader('MSFT', data_source='morningstar', start='2002-1-1')\n",
    "MSFT['simple_return'] = (MSFT['Close'] / MSFT['Close'].shift(1)) - 1\n",
    "print MSFT['simple_return']"
   ]
  },
  {
   "cell_type": "markdown",
   "metadata": {},
   "source": [
    "Plot the simple returns on a graph."
   ]
  },
  {
   "cell_type": "code",
   "execution_count": 2,
   "metadata": {},
   "outputs": [],
   "source": [
    "import matplotlib.pyplot as plt"
   ]
  },
  {
   "cell_type": "code",
   "execution_count": 3,
   "metadata": {},
   "outputs": [
    {
     "data": {
      "image/png": "[encoded data removed]",
      "text/plain": [
       "<Figure size 576x360 with 1 Axes>"
      ]
     },
     "metadata": {},
     "output_type": "display_data"
    }
   ],
   "source": [
    "MSFT['simple_return'].plot(figsize=(8, 5))\n",
    "plt.show()"
   ]
  },
  {
   "cell_type": "markdown",
   "metadata": {},
   "source": [
    "Calculate the average daily return."
   ]
  },
  {
   "cell_type": "code",
   "execution_count": 4,
   "metadata": {},
   "outputs": [
    {
     "data": {
      "text/plain": [
       "0.00040030976228882305"
      ]
     },
     "execution_count": 4,
     "metadata": {},
     "output_type": "execute_result"
    }
   ],
   "source": [
    "avg_returns_d = MSFT['simple_return'].mean()\n",
    "avg_returns_d"
   ]
  },
  {
   "cell_type": "markdown",
   "metadata": {},
   "source": [
    "Estimate the average annual return."
   ]
  },
  {
   "cell_type": "code",
   "execution_count": 5,
   "metadata": {},
   "outputs": [
    {
     "data": {
      "text/plain": [
       "0.10007744057220576"
      ]
     },
     "execution_count": 5,
     "metadata": {},
     "output_type": "execute_result"
    }
   ],
   "source": [
    "avg_returns_a = MSFT['simple_return'].mean() * 250\n",
    "avg_returns_a"
   ]
  },
  {
   "cell_type": "markdown",
   "metadata": {},
   "source": [
    "Print the percentage version of the result as a float with 2 digits after the decimal point."
   ]
  },
  {
   "cell_type": "code",
   "execution_count": 6,
   "metadata": {},
   "outputs": [
    {
     "name": "stdout",
     "output_type": "stream",
     "text": [
      "10.01 %\n"
     ]
    }
   ],
   "source": [
    "print str(round(avg_returns_a, 4) * 100) + ' %'"
   ]
  }
 ],
 "metadata": {
  "kernelspec": {
   "display_name": "Python 2",
   "language": "python",
   "name": "ipykernel_py2"
  },
  "language_info": {
   "codemirror_mode": {
    "name": "ipython",
    "version": 2
   },
   "file_extension": ".py",
   "mimetype": "text/x-python",
   "name": "python",
   "nbconvert_exporter": "python",
   "pygments_lexer": "ipython2",
   "version": "2.7.15"
  }
 },
 "nbformat": 4,
 "nbformat_minor": 2
}
