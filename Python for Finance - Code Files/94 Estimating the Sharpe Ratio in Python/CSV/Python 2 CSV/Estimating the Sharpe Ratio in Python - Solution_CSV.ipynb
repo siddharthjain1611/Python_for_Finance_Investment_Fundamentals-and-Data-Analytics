{
 "cells": [
  {
   "cell_type": "markdown",
   "metadata": {},
   "source": [
    "## Estimating the Sharpe Ratio in Python"
   ]
  },
  {
   "cell_type": "markdown",
   "metadata": {},
   "source": [
    "*Suggested Answers follow (usually there are multiple ways to solve a problem in Python).*"
   ]
  },
  {
   "cell_type": "markdown",
   "metadata": {},
   "source": [
    "Load the data for Microsoft and S&P 500 for the period 1st of January 2012 – 31st of December 2016. \n",
    "Let S&P 500 act as the market. \n",
    "Calculate the beta of Microsoft.\n",
    "\n",
    "Assume a risk-free rate of 2.5% and a risk premium of 5%.<br />\n",
    "Estimate the expected return of Microsoft.\n",
    "\n"
   ]
  },
  {
   "cell_type": "code",
   "execution_count": 1,
   "metadata": {},
   "outputs": [],
   "source": [
    "import numpy as np\n",
    "import pandas as pd\n",
    "from pandas_datareader import data as wb\n",
    "\n",
    "data = pd.read_csv('D:\\Python\\CAPM_Exercise_Data.csv', index_col = 'Date')\n",
    "data\n",
    "    \n",
    "sec_returns = np.log( data / data.shift(1) )\n",
    "cov = sec_returns.cov() * 250\n",
    "cov_with_market = cov.iloc[0,1]\n",
    "market_var = sec_returns['^GSPC'].var() * 250\n",
    "\n",
    "MSFT_beta = cov_with_market / market_var\n",
    "MSFT_er = 0.025 + MSFT_beta * 0.05"
   ]
  },
  {
   "cell_type": "markdown",
   "metadata": {},
   "source": [
    "Calculate the Sharpe ratio in Python."
   ]
  },
  {
   "cell_type": "markdown",
   "metadata": {},
   "source": [
    "**Sharpe ratio:**\n",
    "### $$\n",
    "Sharpe = \\frac{\\overline{r_{pg}} - r_f}{\\sigma_{pg}}\n",
    "$$"
   ]
  },
  {
   "cell_type": "code",
   "execution_count": 2,
   "metadata": {},
   "outputs": [
    {
     "data": {
      "text/plain": [
       "0.23995502423552612"
      ]
     },
     "execution_count": 2,
     "metadata": {},
     "output_type": "execute_result"
    }
   ],
   "source": [
    "Sharpe = (MSFT_er - 0.025) / (sec_returns['MSFT'].std() * 250 ** 0.5)\n",
    "Sharpe"
   ]
  }
 ],
 "metadata": {
  "anaconda-cloud": {},
  "kernelspec": {
   "display_name": "Python 2",
   "language": "python",
   "name": "ipykernel_py2"
  },
  "language_info": {
   "codemirror_mode": {
    "name": "ipython",
    "version": 2
   },
   "file_extension": ".py",
   "mimetype": "text/x-python",
   "name": "python",
   "nbconvert_exporter": "python",
   "pygments_lexer": "ipython2",
   "version": "2.7.15"
  }
 },
 "nbformat": 4,
 "nbformat_minor": 1
}
