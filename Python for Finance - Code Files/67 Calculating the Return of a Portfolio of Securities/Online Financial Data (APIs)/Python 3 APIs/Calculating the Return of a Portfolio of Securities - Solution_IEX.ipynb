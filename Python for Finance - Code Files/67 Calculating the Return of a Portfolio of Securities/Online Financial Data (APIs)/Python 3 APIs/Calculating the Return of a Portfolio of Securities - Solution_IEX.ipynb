{
 "cells": [
  {
   "cell_type": "markdown",
   "metadata": {},
   "source": [
    "## Calculating the Return of a Portfolio of Securities"
   ]
  },
  {
   "cell_type": "markdown",
   "metadata": {},
   "source": [
    "*Suggested Answers follow (usually there are multiple ways to solve a problem in Python).*"
   ]
  },
  {
   "cell_type": "markdown",
   "metadata": {},
   "source": [
    "Download data for a portfolio composed of 5 stocks. Do it for British Petroleum, Ford, Exxon, Lincoln, and Apple for the period ‘2002-1-1’ until today."
   ]
  },
  {
   "cell_type": "code",
   "execution_count": 1,
   "metadata": {
    "collapsed": true
   },
   "outputs": [],
   "source": [
    "import numpy as np\n",
    "import pandas as pd\n",
    "from pandas_datareader import data as wb\n",
    "import matplotlib.pyplot as plt"
   ]
  },
  {
   "cell_type": "code",
   "execution_count": 2,
   "metadata": {
    "collapsed": false
   },
   "outputs": [],
   "source": [
    "tickers = ['BP', 'F', 'XOM', 'LNC', 'AAPL']\n",
    "mydata = pd.DataFrame()\n",
    "for t in tickers:\n",
    "    mydata[t] = wb.DataReader(t, data_source='google', start='2002-1-1')['Close']"
   ]
  },
  {
   "cell_type": "code",
   "execution_count": 3,
   "metadata": {
    "collapsed": false
   },
   "outputs": [
    {
     "name": "stdout",
     "output_type": "stream",
     "text": [
      "<class 'pandas.core.frame.DataFrame'>\n",
      "DatetimeIndex: 3904 entries, 2002-01-02 to 2017-07-05\n",
      "Data columns (total 5 columns):\n",
      "BP      3904 non-null float64\n",
      "F       3904 non-null float64\n",
      "XOM     3904 non-null float64\n",
      "LNC     3904 non-null float64\n",
      "AAPL    3903 non-null float64\n",
      "dtypes: float64(5)\n",
      "memory usage: 183.0 KB\n"
     ]
    }
   ],
   "source": [
    "mydata.info()"
   ]
  },
  {
   "cell_type": "code",
   "execution_count": 4,
   "metadata": {
    "collapsed": false
   },
   "outputs": [
    {
     "data": {
      "text/html": [
       "<div>\n",
       "<table border=\"1\" class=\"dataframe\">\n",
       "  <thead>\n",
       "    <tr style=\"text-align: right;\">\n",
       "      <th></th>\n",
       "      <th>BP</th>\n",
       "      <th>F</th>\n",
       "      <th>XOM</th>\n",
       "      <th>LNC</th>\n",
       "      <th>AAPL</th>\n",
       "    </tr>\n",
       "    <tr>\n",
       "      <th>Date</th>\n",
       "      <th></th>\n",
       "      <th></th>\n",
       "      <th></th>\n",
       "      <th></th>\n",
       "      <th></th>\n",
       "    </tr>\n",
       "  </thead>\n",
       "  <tbody>\n",
       "    <tr>\n",
       "      <th>2002-01-02</th>\n",
       "      <td>46.05</td>\n",
       "      <td>16.22</td>\n",
       "      <td>39.60</td>\n",
       "      <td>48.30</td>\n",
       "      <td>1.66</td>\n",
       "    </tr>\n",
       "    <tr>\n",
       "      <th>2002-01-03</th>\n",
       "      <td>46.07</td>\n",
       "      <td>16.73</td>\n",
       "      <td>39.66</td>\n",
       "      <td>49.08</td>\n",
       "      <td>1.68</td>\n",
       "    </tr>\n",
       "    <tr>\n",
       "      <th>2002-01-04</th>\n",
       "      <td>46.28</td>\n",
       "      <td>16.94</td>\n",
       "      <td>40.00</td>\n",
       "      <td>49.93</td>\n",
       "      <td>1.69</td>\n",
       "    </tr>\n",
       "    <tr>\n",
       "      <th>2002-01-07</th>\n",
       "      <td>45.75</td>\n",
       "      <td>16.50</td>\n",
       "      <td>39.65</td>\n",
       "      <td>49.50</td>\n",
       "      <td>1.64</td>\n",
       "    </tr>\n",
       "    <tr>\n",
       "      <th>2002-01-08</th>\n",
       "      <td>45.19</td>\n",
       "      <td>16.56</td>\n",
       "      <td>39.70</td>\n",
       "      <td>49.45</td>\n",
       "      <td>1.62</td>\n",
       "    </tr>\n",
       "  </tbody>\n",
       "</table>\n",
       "</div>"
      ],
      "text/plain": [
       "               BP      F    XOM    LNC  AAPL\n",
       "Date                                        \n",
       "2002-01-02  46.05  16.22  39.60  48.30  1.66\n",
       "2002-01-03  46.07  16.73  39.66  49.08  1.68\n",
       "2002-01-04  46.28  16.94  40.00  49.93  1.69\n",
       "2002-01-07  45.75  16.50  39.65  49.50  1.64\n",
       "2002-01-08  45.19  16.56  39.70  49.45  1.62"
      ]
     },
     "execution_count": 4,
     "metadata": {},
     "output_type": "execute_result"
    }
   ],
   "source": [
    "mydata.head()"
   ]
  },
  {
   "cell_type": "code",
   "execution_count": 5,
   "metadata": {
    "collapsed": false
   },
   "outputs": [
    {
     "data": {
      "text/html": [
       "<div>\n",
       "<table border=\"1\" class=\"dataframe\">\n",
       "  <thead>\n",
       "    <tr style=\"text-align: right;\">\n",
       "      <th></th>\n",
       "      <th>BP</th>\n",
       "      <th>F</th>\n",
       "      <th>XOM</th>\n",
       "      <th>LNC</th>\n",
       "      <th>AAPL</th>\n",
       "    </tr>\n",
       "    <tr>\n",
       "      <th>Date</th>\n",
       "      <th></th>\n",
       "      <th></th>\n",
       "      <th></th>\n",
       "      <th></th>\n",
       "      <th></th>\n",
       "    </tr>\n",
       "  </thead>\n",
       "  <tbody>\n",
       "    <tr>\n",
       "      <th>2017-06-28</th>\n",
       "      <td>35.27</td>\n",
       "      <td>11.09</td>\n",
       "      <td>81.53</td>\n",
       "      <td>66.63</td>\n",
       "      <td>145.83</td>\n",
       "    </tr>\n",
       "    <tr>\n",
       "      <th>2017-06-29</th>\n",
       "      <td>34.86</td>\n",
       "      <td>11.17</td>\n",
       "      <td>80.70</td>\n",
       "      <td>67.27</td>\n",
       "      <td>143.68</td>\n",
       "    </tr>\n",
       "    <tr>\n",
       "      <th>2017-06-30</th>\n",
       "      <td>34.65</td>\n",
       "      <td>11.19</td>\n",
       "      <td>80.73</td>\n",
       "      <td>67.58</td>\n",
       "      <td>144.02</td>\n",
       "    </tr>\n",
       "    <tr>\n",
       "      <th>2017-07-03</th>\n",
       "      <td>35.02</td>\n",
       "      <td>11.56</td>\n",
       "      <td>82.10</td>\n",
       "      <td>69.11</td>\n",
       "      <td>143.50</td>\n",
       "    </tr>\n",
       "    <tr>\n",
       "      <th>2017-07-05</th>\n",
       "      <td>34.42</td>\n",
       "      <td>11.30</td>\n",
       "      <td>80.85</td>\n",
       "      <td>68.96</td>\n",
       "      <td>144.09</td>\n",
       "    </tr>\n",
       "  </tbody>\n",
       "</table>\n",
       "</div>"
      ],
      "text/plain": [
       "               BP      F    XOM    LNC    AAPL\n",
       "Date                                          \n",
       "2017-06-28  35.27  11.09  81.53  66.63  145.83\n",
       "2017-06-29  34.86  11.17  80.70  67.27  143.68\n",
       "2017-06-30  34.65  11.19  80.73  67.58  144.02\n",
       "2017-07-03  35.02  11.56  82.10  69.11  143.50\n",
       "2017-07-05  34.42  11.30  80.85  68.96  144.09"
      ]
     },
     "execution_count": 5,
     "metadata": {},
     "output_type": "execute_result"
    }
   ],
   "source": [
    "mydata.tail()"
   ]
  },
  {
   "cell_type": "markdown",
   "metadata": {},
   "source": [
    "### Normalization to 100:\n",
    "\n",
    "$$\n",
    "\\frac {P_t}{P_0} * 100\n",
    "$$"
   ]
  },
  {
   "cell_type": "markdown",
   "metadata": {},
   "source": [
    "Normalize to a hundred and plot the data on a graph (you can apply the .loc() or the .iloc() method). "
   ]
  },
  {
   "cell_type": "code",
   "execution_count": 6,
   "metadata": {
    "collapsed": false
   },
   "outputs": [
    {
     "data": {
      "text/plain": [
       "BP      46.05\n",
       "F       16.22\n",
       "XOM     39.60\n",
       "LNC     48.30\n",
       "AAPL     1.66\n",
       "Name: 2002-01-02 00:00:00, dtype: float64"
      ]
     },
     "execution_count": 6,
     "metadata": {},
     "output_type": "execute_result"
    }
   ],
   "source": [
    "mydata.iloc[0]"
   ]
  },
  {
   "cell_type": "code",
   "execution_count": 7,
   "metadata": {
    "collapsed": false
   },
   "outputs": [
    {
     "data": {
      "image/png": "[encoded data removed]",
      "text/plain": [
       "<matplotlib.figure.Figure at 0x86b3470>"
      ]
     },
     "metadata": {},
     "output_type": "display_data"
    }
   ],
   "source": [
    "(mydata / mydata.iloc[0] * 100).plot(figsize = (15, 6));\n",
    "plt.show()"
   ]
  },
  {
   "cell_type": "markdown",
   "metadata": {},
   "source": [
    "How would you interpret the behavior of the stocks? Just by looking at the chart, would you be able to create a portfolio that provides a solid return on investment?"
   ]
  },
  {
   "cell_type": "markdown",
   "metadata": {},
   "source": [
    "*****"
   ]
  },
  {
   "cell_type": "markdown",
   "metadata": {},
   "source": [
    "### Calculating the Return of a Portfolio of Securities"
   ]
  },
  {
   "cell_type": "markdown",
   "metadata": {},
   "source": [
    "Obtain the simple return of the securities in the portfolio and store the results in a new table."
   ]
  },
  {
   "cell_type": "code",
   "execution_count": 8,
   "metadata": {
    "collapsed": false
   },
   "outputs": [
    {
     "data": {
      "text/html": [
       "<div>\n",
       "<table border=\"1\" class=\"dataframe\">\n",
       "  <thead>\n",
       "    <tr style=\"text-align: right;\">\n",
       "      <th></th>\n",
       "      <th>BP</th>\n",
       "      <th>F</th>\n",
       "      <th>XOM</th>\n",
       "      <th>LNC</th>\n",
       "      <th>AAPL</th>\n",
       "    </tr>\n",
       "    <tr>\n",
       "      <th>Date</th>\n",
       "      <th></th>\n",
       "      <th></th>\n",
       "      <th></th>\n",
       "      <th></th>\n",
       "      <th></th>\n",
       "    </tr>\n",
       "  </thead>\n",
       "  <tbody>\n",
       "    <tr>\n",
       "      <th>2002-01-02</th>\n",
       "      <td>NaN</td>\n",
       "      <td>NaN</td>\n",
       "      <td>NaN</td>\n",
       "      <td>NaN</td>\n",
       "      <td>NaN</td>\n",
       "    </tr>\n",
       "    <tr>\n",
       "      <th>2002-01-03</th>\n",
       "      <td>0.000434</td>\n",
       "      <td>0.031443</td>\n",
       "      <td>0.001515</td>\n",
       "      <td>0.016149</td>\n",
       "      <td>0.012048</td>\n",
       "    </tr>\n",
       "    <tr>\n",
       "      <th>2002-01-04</th>\n",
       "      <td>0.004558</td>\n",
       "      <td>0.012552</td>\n",
       "      <td>0.008573</td>\n",
       "      <td>0.017319</td>\n",
       "      <td>0.005952</td>\n",
       "    </tr>\n",
       "    <tr>\n",
       "      <th>2002-01-07</th>\n",
       "      <td>-0.011452</td>\n",
       "      <td>-0.025974</td>\n",
       "      <td>-0.008750</td>\n",
       "      <td>-0.008612</td>\n",
       "      <td>-0.029586</td>\n",
       "    </tr>\n",
       "    <tr>\n",
       "      <th>2002-01-08</th>\n",
       "      <td>-0.012240</td>\n",
       "      <td>0.003636</td>\n",
       "      <td>0.001261</td>\n",
       "      <td>-0.001010</td>\n",
       "      <td>-0.012195</td>\n",
       "    </tr>\n",
       "  </tbody>\n",
       "</table>\n",
       "</div>"
      ],
      "text/plain": [
       "                  BP         F       XOM       LNC      AAPL\n",
       "Date                                                        \n",
       "2002-01-02       NaN       NaN       NaN       NaN       NaN\n",
       "2002-01-03  0.000434  0.031443  0.001515  0.016149  0.012048\n",
       "2002-01-04  0.004558  0.012552  0.008573  0.017319  0.005952\n",
       "2002-01-07 -0.011452 -0.025974 -0.008750 -0.008612 -0.029586\n",
       "2002-01-08 -0.012240  0.003636  0.001261 -0.001010 -0.012195"
      ]
     },
     "execution_count": 8,
     "metadata": {},
     "output_type": "execute_result"
    }
   ],
   "source": [
    "returns = (mydata / mydata.shift(1)) - 1\n",
    "returns.head()"
   ]
  },
  {
   "cell_type": "markdown",
   "metadata": {},
   "source": [
    "First, assume you would like to create an equally-weighted portfolio. Create the array, naming it “weights”."
   ]
  },
  {
   "cell_type": "code",
   "execution_count": 9,
   "metadata": {
    "collapsed": true
   },
   "outputs": [],
   "source": [
    "weights = np.array([0.20, 0.20, 0.20, 0.20, 0.20])"
   ]
  },
  {
   "cell_type": "markdown",
   "metadata": {},
   "source": [
    "Obtain the annual returns of each of the stocks and then calculate the dot product of these returns and the weights."
   ]
  },
  {
   "cell_type": "code",
   "execution_count": 10,
   "metadata": {
    "collapsed": false
   },
   "outputs": [
    {
     "data": {
      "text/plain": [
       "BP      0.021637\n",
       "F       0.069150\n",
       "XOM     0.074522\n",
       "LNC     0.173863\n",
       "AAPL    0.347413\n",
       "dtype: float64"
      ]
     },
     "execution_count": 10,
     "metadata": {},
     "output_type": "execute_result"
    }
   ],
   "source": [
    "annual_returns = returns.mean() * 250\n",
    "annual_returns"
   ]
  },
  {
   "cell_type": "code",
   "execution_count": 11,
   "metadata": {
    "collapsed": false
   },
   "outputs": [
    {
     "data": {
      "text/plain": [
       "0.13731707045322189"
      ]
     },
     "execution_count": 11,
     "metadata": {},
     "output_type": "execute_result"
    }
   ],
   "source": [
    "np.dot(annual_returns, weights)"
   ]
  },
  {
   "cell_type": "markdown",
   "metadata": {},
   "source": [
    "Transform the result into a percentage form. "
   ]
  },
  {
   "cell_type": "code",
   "execution_count": 12,
   "metadata": {
    "collapsed": false
   },
   "outputs": [
    {
     "name": "stdout",
     "output_type": "stream",
     "text": [
      "13.732 %\n"
     ]
    }
   ],
   "source": [
    "pfolio_1 = str(round(np.dot(annual_returns, weights), 5) * 100) + ' %'\n",
    "print pfolio_1"
   ]
  },
  {
   "cell_type": "markdown",
   "metadata": {},
   "source": [
    "Is the return of this portfolio satisfactory?"
   ]
  }
 ],
 "metadata": {
  "kernelspec": {
   "display_name": "Python 2",
   "language": "python",
   "name": "python2"
  },
  "language_info": {
   "codemirror_mode": {
    "name": "ipython",
    "version": 2
   },
   "file_extension": ".py",
   "mimetype": "text/x-python",
   "name": "python",
   "nbconvert_exporter": "python",
   "pygments_lexer": "ipython2",
   "version": "2.7.13"
  }
 },
 "nbformat": 4,
 "nbformat_minor": 2
}
