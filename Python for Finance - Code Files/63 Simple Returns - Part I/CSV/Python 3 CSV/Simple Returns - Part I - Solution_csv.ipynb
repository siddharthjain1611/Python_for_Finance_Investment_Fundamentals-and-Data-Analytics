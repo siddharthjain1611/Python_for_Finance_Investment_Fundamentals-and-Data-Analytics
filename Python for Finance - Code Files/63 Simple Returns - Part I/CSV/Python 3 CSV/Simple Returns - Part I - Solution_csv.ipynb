{
 "cells": [
  {
   "cell_type": "markdown",
   "metadata": {},
   "source": [
    "## Simpler Returns - Part I"
   ]
  },
  {
   "cell_type": "markdown",
   "metadata": {},
   "source": [
    "*Suggested Answers follow (usually there are multiple ways to solve a problem in Python).*"
   ]
  },
  {
   "cell_type": "markdown",
   "metadata": {},
   "source": [
    "Download the data for Microsoft (‘MSFT’) from Yahoo Finance for the period ‘2000-1-1’ until today."
   ]
  },
  {
   "cell_type": "code",
   "execution_count": 1,
   "metadata": {},
   "outputs": [],
   "source": [
    "import numpy as np\n",
    "import pandas as pd\n",
    "from pandas_datareader import data as wb"
   ]
  },
  {
   "cell_type": "code",
   "execution_count": 2,
   "metadata": {},
   "outputs": [],
   "source": [
    "MSFT = pd.read_csv('D:/Python/MSFT_2000_2017.csv', index_col = 'Date')"
   ]
  },
  {
   "cell_type": "markdown",
   "metadata": {},
   "source": [
    "Apply the .**head()** and **.tail()** methods to check if the data is ok. Always pay attention to the dates. Try to get an idea about how the stock price changed during the period."
   ]
  },
  {
   "cell_type": "code",
   "execution_count": 3,
   "metadata": {},
   "outputs": [
    {
     "data": {
      "text/html": [
       "<div>\n",
       "<style scoped>\n",
       "    .dataframe tbody tr th:only-of-type {\n",
       "        vertical-align: middle;\n",
       "    }\n",
       "\n",
       "    .dataframe tbody tr th {\n",
       "        vertical-align: top;\n",
       "    }\n",
       "\n",
       "    .dataframe thead th {\n",
       "        text-align: right;\n",
       "    }\n",
       "</style>\n",
       "<table border=\"1\" class=\"dataframe\">\n",
       "  <thead>\n",
       "    <tr style=\"text-align: right;\">\n",
       "      <th></th>\n",
       "      <th>Open</th>\n",
       "      <th>High</th>\n",
       "      <th>Low</th>\n",
       "      <th>Close</th>\n",
       "      <th>Adj Close</th>\n",
       "      <th>Volume</th>\n",
       "    </tr>\n",
       "    <tr>\n",
       "      <th>Date</th>\n",
       "      <th></th>\n",
       "      <th></th>\n",
       "      <th></th>\n",
       "      <th></th>\n",
       "      <th></th>\n",
       "      <th></th>\n",
       "    </tr>\n",
       "  </thead>\n",
       "  <tbody>\n",
       "    <tr>\n",
       "      <th>1999-12-31</th>\n",
       "      <td>58.75000</td>\n",
       "      <td>58.8750</td>\n",
       "      <td>58.1250</td>\n",
       "      <td>58.37500</td>\n",
       "      <td>38.771053</td>\n",
       "      <td>12517600</td>\n",
       "    </tr>\n",
       "    <tr>\n",
       "      <th>2000-01-03</th>\n",
       "      <td>58.68750</td>\n",
       "      <td>59.3125</td>\n",
       "      <td>56.0000</td>\n",
       "      <td>58.28125</td>\n",
       "      <td>38.708794</td>\n",
       "      <td>53228400</td>\n",
       "    </tr>\n",
       "    <tr>\n",
       "      <th>2000-01-04</th>\n",
       "      <td>56.78125</td>\n",
       "      <td>58.5625</td>\n",
       "      <td>56.1250</td>\n",
       "      <td>56.31250</td>\n",
       "      <td>37.401215</td>\n",
       "      <td>54119000</td>\n",
       "    </tr>\n",
       "    <tr>\n",
       "      <th>2000-01-05</th>\n",
       "      <td>55.56250</td>\n",
       "      <td>58.1875</td>\n",
       "      <td>54.6875</td>\n",
       "      <td>56.90625</td>\n",
       "      <td>37.795563</td>\n",
       "      <td>64059600</td>\n",
       "    </tr>\n",
       "    <tr>\n",
       "      <th>2000-01-06</th>\n",
       "      <td>56.09375</td>\n",
       "      <td>56.9375</td>\n",
       "      <td>54.1875</td>\n",
       "      <td>55.00000</td>\n",
       "      <td>36.529484</td>\n",
       "      <td>54976600</td>\n",
       "    </tr>\n",
       "  </tbody>\n",
       "</table>\n",
       "</div>"
      ],
      "text/plain": [
       "                Open     High      Low     Close  Adj Close    Volume\n",
       "Date                                                                 \n",
       "1999-12-31  58.75000  58.8750  58.1250  58.37500  38.771053  12517600\n",
       "2000-01-03  58.68750  59.3125  56.0000  58.28125  38.708794  53228400\n",
       "2000-01-04  56.78125  58.5625  56.1250  56.31250  37.401215  54119000\n",
       "2000-01-05  55.56250  58.1875  54.6875  56.90625  37.795563  64059600\n",
       "2000-01-06  56.09375  56.9375  54.1875  55.00000  36.529484  54976600"
      ]
     },
     "execution_count": 3,
     "metadata": {},
     "output_type": "execute_result"
    }
   ],
   "source": [
    "MSFT.head()"
   ]
  },
  {
   "cell_type": "code",
   "execution_count": 4,
   "metadata": {},
   "outputs": [
    {
     "data": {
      "text/html": [
       "<div>\n",
       "<style scoped>\n",
       "    .dataframe tbody tr th:only-of-type {\n",
       "        vertical-align: middle;\n",
       "    }\n",
       "\n",
       "    .dataframe tbody tr th {\n",
       "        vertical-align: top;\n",
       "    }\n",
       "\n",
       "    .dataframe thead th {\n",
       "        text-align: right;\n",
       "    }\n",
       "</style>\n",
       "<table border=\"1\" class=\"dataframe\">\n",
       "  <thead>\n",
       "    <tr style=\"text-align: right;\">\n",
       "      <th></th>\n",
       "      <th>Open</th>\n",
       "      <th>High</th>\n",
       "      <th>Low</th>\n",
       "      <th>Close</th>\n",
       "      <th>Adj Close</th>\n",
       "      <th>Volume</th>\n",
       "    </tr>\n",
       "    <tr>\n",
       "      <th>Date</th>\n",
       "      <th></th>\n",
       "      <th></th>\n",
       "      <th></th>\n",
       "      <th></th>\n",
       "      <th></th>\n",
       "      <th></th>\n",
       "    </tr>\n",
       "  </thead>\n",
       "  <tbody>\n",
       "    <tr>\n",
       "      <th>2017-12-06</th>\n",
       "      <td>81.550003</td>\n",
       "      <td>83.139999</td>\n",
       "      <td>81.430000</td>\n",
       "      <td>82.779999</td>\n",
       "      <td>82.779999</td>\n",
       "      <td>26162100</td>\n",
       "    </tr>\n",
       "    <tr>\n",
       "      <th>2017-12-07</th>\n",
       "      <td>82.540001</td>\n",
       "      <td>82.800003</td>\n",
       "      <td>82.000000</td>\n",
       "      <td>82.489998</td>\n",
       "      <td>82.489998</td>\n",
       "      <td>23184500</td>\n",
       "    </tr>\n",
       "    <tr>\n",
       "      <th>2017-12-08</th>\n",
       "      <td>83.629997</td>\n",
       "      <td>84.580002</td>\n",
       "      <td>83.330002</td>\n",
       "      <td>84.160004</td>\n",
       "      <td>84.160004</td>\n",
       "      <td>24489100</td>\n",
       "    </tr>\n",
       "    <tr>\n",
       "      <th>2017-12-11</th>\n",
       "      <td>84.290001</td>\n",
       "      <td>85.370003</td>\n",
       "      <td>84.120003</td>\n",
       "      <td>85.230003</td>\n",
       "      <td>85.230003</td>\n",
       "      <td>20121700</td>\n",
       "    </tr>\n",
       "    <tr>\n",
       "      <th>2017-12-12</th>\n",
       "      <td>85.309998</td>\n",
       "      <td>86.050003</td>\n",
       "      <td>85.080002</td>\n",
       "      <td>85.529999</td>\n",
       "      <td>85.529999</td>\n",
       "      <td>7805031</td>\n",
       "    </tr>\n",
       "  </tbody>\n",
       "</table>\n",
       "</div>"
      ],
      "text/plain": [
       "                 Open       High        Low      Close  Adj Close    Volume\n",
       "Date                                                                       \n",
       "2017-12-06  81.550003  83.139999  81.430000  82.779999  82.779999  26162100\n",
       "2017-12-07  82.540001  82.800003  82.000000  82.489998  82.489998  23184500\n",
       "2017-12-08  83.629997  84.580002  83.330002  84.160004  84.160004  24489100\n",
       "2017-12-11  84.290001  85.370003  84.120003  85.230003  85.230003  20121700\n",
       "2017-12-12  85.309998  86.050003  85.080002  85.529999  85.529999   7805031"
      ]
     },
     "execution_count": 4,
     "metadata": {},
     "output_type": "execute_result"
    }
   ],
   "source": [
    "MSFT.tail()"
   ]
  },
  {
   "cell_type": "markdown",
   "metadata": {
    "collapsed": true
   },
   "source": [
    "### Simple Rate of Return"
   ]
  },
  {
   "cell_type": "markdown",
   "metadata": {},
   "source": [
    "Calculate the simple returns of ‘MSFT’ for the given timeframe."
   ]
  },
  {
   "cell_type": "markdown",
   "metadata": {},
   "source": [
    "$$\n",
    "\\frac{P_1 - P_0}{P_0} = \\frac{P_1}{P_0} - 1\n",
    "$$"
   ]
  },
  {
   "cell_type": "code",
   "execution_count": 5,
   "metadata": {},
   "outputs": [
    {
     "name": "stdout",
     "output_type": "stream",
     "text": [
      "Date\n",
      "1999-12-31         NaN\n",
      "2000-01-03   -0.001606\n",
      "2000-01-04   -0.033780\n",
      "2000-01-05    0.010544\n",
      "2000-01-06   -0.033498\n",
      "2000-01-07    0.013068\n",
      "2000-01-10    0.007291\n",
      "2000-01-11   -0.025612\n",
      "2000-01-12   -0.032572\n",
      "2000-01-13    0.018901\n",
      "2000-01-14    0.041159\n",
      "2000-01-18    0.027283\n",
      "2000-01-19   -0.072087\n",
      "2000-01-20   -0.009346\n",
      "2000-01-21   -0.021226\n",
      "2000-01-24   -0.024096\n",
      "2000-01-25    0.015432\n",
      "2000-01-26   -0.033435\n",
      "2000-01-27   -0.006289\n",
      "2000-01-28   -0.005064\n",
      "2000-01-31   -0.003817\n",
      "2000-02-01    0.051724\n",
      "2000-02-02   -0.020643\n",
      "2000-02-03    0.027898\n",
      "2000-02-04    0.028348\n",
      "2000-02-07    0.000587\n",
      "2000-02-08    0.031066\n",
      "2000-02-09   -0.054008\n",
      "2000-02-10    0.019230\n",
      "2000-02-11   -0.057193\n",
      "                ...   \n",
      "2017-10-31   -0.008463\n",
      "2017-11-01    0.000000\n",
      "2017-11-02    0.010459\n",
      "2017-11-03    0.001071\n",
      "2017-11-06    0.003922\n",
      "2017-11-07   -0.002368\n",
      "2017-11-08    0.003441\n",
      "2017-11-09   -0.005558\n",
      "2017-11-10   -0.002616\n",
      "2017-11-13    0.000715\n",
      "2017-11-14    0.001430\n",
      "2017-11-15   -0.007772\n",
      "2017-11-16    0.002651\n",
      "2017-11-17   -0.009615\n",
      "2017-11-20    0.001578\n",
      "2017-11-21    0.014419\n",
      "2017-11-22   -0.007286\n",
      "2017-11-24    0.001805\n",
      "2017-11-27    0.007326\n",
      "2017-11-28    0.012042\n",
      "2017-11-29   -0.018143\n",
      "2017-11-30    0.009959\n",
      "2017-12-01    0.001069\n",
      "2017-12-04   -0.037740\n",
      "2017-12-05    0.006290\n",
      "2017-12-06    0.014585\n",
      "2017-12-07   -0.003503\n",
      "2017-12-08    0.020245\n",
      "2017-12-11    0.012714\n",
      "2017-12-12    0.003520\n",
      "Name: simple_return, Length: 4517, dtype: float64\n"
     ]
    }
   ],
   "source": [
    "MSFT['simple_return'] = (MSFT['Adj Close'] / MSFT['Adj Close'].shift(1)) - 1\n",
    "print (MSFT['simple_return'])"
   ]
  }
 ],
 "metadata": {
  "kernelspec": {
   "display_name": "Python 3",
   "language": "python",
   "name": "python3"
  },
  "language_info": {
   "codemirror_mode": {
    "name": "ipython",
    "version": 3
   },
   "file_extension": ".py",
   "mimetype": "text/x-python",
   "name": "python",
   "nbconvert_exporter": "python",
   "pygments_lexer": "ipython3",
   "version": "3.6.4"
  }
 },
 "nbformat": 4,
 "nbformat_minor": 2
}
